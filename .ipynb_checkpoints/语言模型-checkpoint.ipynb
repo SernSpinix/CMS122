{
 "cells": [
  {
   "cell_type": "code",
   "execution_count": null,
   "id": "9923563d-c3c4-42dc-8337-089860e9f402",
   "metadata": {},
   "outputs": [],
   "source": [
    "import pandas as pd\n",
    "from datasets import Dataset"
   ]
  },
  {
   "cell_type": "code",
   "execution_count": null,
   "id": "560f4d59-bccf-4617-98b9-914bc9fecc1a",
   "metadata": {},
   "outputs": [],
   "source": [
    "#dataset value in utf-8 formate\n",
    "train_set = pd.read_csv('tweet_qa-train.csv',encoding = \"utf-8\")\n",
    "test_set = pd.read_csv('tweet_qa-test.csv',encoding = \"utf-8\")\n",
    "validation_set = pd.read_csv('tweet_qa-validation.csv',encoding = \"utf-8\")"
   ]
  },
  {
   "cell_type": "code",
   "execution_count": null,
   "id": "9f3f3eff-079f-46cb-8094-f8223faeab80",
   "metadata": {},
   "outputs": [],
   "source": [
    "#lower case all letters\n",
    "columns_to_lowercase = ['text', 'context', 'gold_label_str']\n",
    "\n",
    "def convert_columns_to_lowercase(dataset, columns):\n",
    "    for column in columns:\n",
    "        if column in dataset.columns:\n",
    "            dataset[column] = dataset[column].str.lower()\n",
    "    return dataset\n",
    "\n",
    "train_set = convert_columns_to_lowercase(train_set, columns_to_lowercase)\n",
    "test_set = convert_columns_to_lowercase(test_set, columns_to_lowercase)\n",
    "validation_set = convert_columns_to_lowercase(validation_set, columns_to_lowercase)"
   ]
  },
  {
   "cell_type": "code",
   "execution_count": null,
   "id": "8f4a48fa-477a-44c1-85ba-32a9a44ccd19",
   "metadata": {},
   "outputs": [],
   "source": [
    "#rename columns according to column_mapping, for easy understanding\n",
    "\n",
    "# Define a function to rename columns in a dataset\n",
    "def rename_columns(dataset, column_mapping):\n",
    "    return dataset.rename(columns=column_mapping)\n",
    "\n",
    "column_mapping = {\n",
    "    'text': 'text',\n",
    "    'context': 'question',\n",
    "    'gold_label_str': 'answer'\n",
    "}\n",
    "\n",
    "train_set = rename_columns(train_set, column_mapping)\n",
    "test_set = rename_columns(test_set, column_mapping)\n",
    "validation_set = rename_columns(validation_set, column_mapping)"
   ]
  },
  {
   "cell_type": "code",
   "execution_count": null,
   "id": "6d34c2af-561a-4fdc-8b0f-4563f9fa05bc",
   "metadata": {},
   "outputs": [],
   "source": [
    "#Clean up columns: remove duplicates, drop missing rows and ensure answers are found in text\n",
    "def dataset_cleaning(dataset, cleaning_columns):\n",
    "    dataset = dataset.drop_duplicates(subset=cleaning_columns)\n",
    "    dataset = dataset.dropna(subset=cleaning_columns)\n",
    "    \n",
    "    # Ensure answers are found in the text\n",
    "    dataset = dataset[dataset.apply(\n",
    "        lambda row: row['answer'] in row['text'], axis=1\n",
    "    )]\n",
    "    return dataset\n",
    "\n",
    "#Columns for cleaning\n",
    "cleaning_columns = ['text', 'question', 'answer']\n",
    "\n",
    "train_set_cleaned = dataset_cleaning(train_set, cleaning_columns)\n",
    "test_set_cleaned = dataset_cleaning(test_set, cleaning_columns)\n",
    "validation_set_cleaned = dataset_cleaning(validation_set, cleaning_columns)"
   ]
  },
  {
   "cell_type": "code",
   "execution_count": null,
   "id": "7e2c55e3-fac3-4ddc-af56-aa131eb4f3c5",
   "metadata": {},
   "outputs": [],
   "source": [
    "# Function to normalize column lengths to the average length of each column\n",
    "def normalization_question_text(dataset, columns, padding_char=\" \"):\n",
    "    def adjust_length(value, target_length):\n",
    "        # Truncate if longer than target_length\n",
    "        if len(value) > target_length:\n",
    "            return value[:target_length]\n",
    "        # Pad if shorter than target_length\n",
    "        else:\n",
    "            return value + padding_char * (target_length - len(value))\n",
    "    \n",
    "    # Process each column\n",
    "    for column in columns:\n",
    "        if column in dataset.columns:\n",
    "            avg_length = int(dataset[column].apply(len).mean())\n",
    "            dataset[column] = dataset[column].apply(\n",
    "                lambda x: adjust_length(x, avg_length) if isinstance(x, str) else x\n",
    "            )\n",
    "    \n",
    "    return dataset\n",
    "\n",
    "train_set_normalized = normalization_question_text(train_set_cleaned, ['context', 'text'])\n",
    "test_set_normalized = normalization_question_text(test_set_cleaned, ['context', 'text'])\n",
    "validation_set_normalized = normalization_question_text(validation_set_cleaned, ['context', 'text'])"
   ]
  },
  {
   "cell_type": "code",
   "execution_count": 1,
   "id": "b24fdc5f",
   "metadata": {},
   "outputs": [
    {
     "name": "stdout",
     "output_type": "stream",
     "text": [
      "{'text': '\"So much of The Post is Ben,\" Mrs. Graham said in 1994, three years after Bradlee retired as editor. \"He created it as we know it today.\"— Ed O\\'Keefe (@user) October 21, 2014', 'context': 'what did bradlee retire as?', 'gold_label_str': 'editor'}\n",
      "{'text': '\"@Reid2962: @realDonaldTrump@FoxNews I expected better from @megynkelly, wondering what is her hidden agenda.— Donald J. Trump (@realDonaldTrump) August 7, 2015', 'context': 'who do you expect better from?', 'gold_label_str': '@megynkelly'}\n",
      "{'text': '5 years in 5 seconds. Darren Booth (@darbooth) January 25, 2013', 'context': 'what site does the link take you to?', 'gold_label_str': 'vine'}\n"
     ]
    }
   ],
   "source": [
    "# 转换为Huggingface Dataset\n",
    "train_dataset = Dataset.from_pandas(train_data)\n",
    "validation_dataset = Dataset.from_pandas(validation_data)\n",
    "test_dataset = Dataset.from_pandas(test_data)\n",
    "\n",
    "# 检查数据集内容\n",
    "print(train_dataset[0])\n",
    "print(validation_dataset[0])\n",
    "print(test_dataset[0])"
   ]
  },
  {
   "cell_type": "code",
   "execution_count": 2,
   "id": "b2eed87f",
   "metadata": {},
   "outputs": [
    {
     "data": {
      "application/vnd.jupyter.widget-view+json": {
       "model_id": "578c760f15834b5b975553853fc93c51",
       "version_major": 2,
       "version_minor": 0
      },
      "text/plain": [
       "Map:   0%|          | 0/9489 [00:00<?, ? examples/s]"
      ]
     },
     "metadata": {},
     "output_type": "display_data"
    },
    {
     "data": {
      "application/vnd.jupyter.widget-view+json": {
       "model_id": "65cda281acfa44d9b4504c9a152733cf",
       "version_major": 2,
       "version_minor": 0
      },
      "text/plain": [
       "Map:   0%|          | 0/1086 [00:00<?, ? examples/s]"
      ]
     },
     "metadata": {},
     "output_type": "display_data"
    },
    {
     "data": {
      "application/vnd.jupyter.widget-view+json": {
       "model_id": "6c0e3a54df194bed82ff6693c71251df",
       "version_major": 2,
       "version_minor": 0
      },
      "text/plain": [
       "Map:   0%|          | 0/1203 [00:00<?, ? examples/s]"
      ]
     },
     "metadata": {},
     "output_type": "display_data"
    }
   ],
   "source": [
    "def preprocess_function(examples):\n",
    "    inputs = [f\"question: {text} context: {context}\" for text, context in zip(examples['text'], examples['context'])]\n",
    "    targets = examples['gold_label_str']\n",
    "    return {'input_text': inputs, 'target_text': targets}\n",
    "\n",
    "# 应用预处理\n",
    "train_dataset = train_dataset.map(preprocess_function, batched=True)\n",
    "validation_dataset = validation_dataset.map(preprocess_function, batched=True)\n",
    "test_dataset = test_dataset.map(preprocess_function, batched=True)"
   ]
  },
  {
   "cell_type": "code",
   "execution_count": 4,
   "id": "57f4c0bf",
   "metadata": {},
   "outputs": [
    {
     "data": {
      "application/vnd.jupyter.widget-view+json": {
       "model_id": "394942d0918a4ae4bccf9d75843c169d",
       "version_major": 2,
       "version_minor": 0
      },
      "text/plain": [
       "Map:   0%|          | 0/9489 [00:00<?, ? examples/s]"
      ]
     },
     "metadata": {},
     "output_type": "display_data"
    },
    {
     "data": {
      "application/vnd.jupyter.widget-view+json": {
       "model_id": "5371416137fd408e83d5145d3e8ab3c5",
       "version_major": 2,
       "version_minor": 0
      },
      "text/plain": [
       "Map:   0%|          | 0/1086 [00:00<?, ? examples/s]"
      ]
     },
     "metadata": {},
     "output_type": "display_data"
    },
    {
     "data": {
      "application/vnd.jupyter.widget-view+json": {
       "model_id": "4d0af5321976488cbc4c9a57198cd603",
       "version_major": 2,
       "version_minor": 0
      },
      "text/plain": [
       "Map:   0%|          | 0/1203 [00:00<?, ? examples/s]"
      ]
     },
     "metadata": {},
     "output_type": "display_data"
    }
   ],
   "source": [
    "from transformers import T5Tokenizer\n",
    "\n",
    "# 加载T5的tokenizer\n",
    "tokenizer = T5Tokenizer.from_pretrained(\"t5-small\")\n",
    "\n",
    "def tokenize_function(examples):\n",
    "    model_inputs = tokenizer(examples['input_text'], padding=\"max_length\", truncation=True, max_length=512)\n",
    "    labels = tokenizer(examples['target_text'], padding=\"max_length\", truncation=True, max_length=128)\n",
    "    model_inputs['labels'] = labels['input_ids']\n",
    "    return model_inputs\n",
    "\n",
    "# Tokenize数据集\n",
    "train_dataset = train_dataset.map(tokenize_function, batched=True)\n",
    "validation_dataset = validation_dataset.map(tokenize_function, batched=True)\n",
    "test_dataset = test_dataset.map(tokenize_function, batched=True)"
   ]
  },
  {
   "cell_type": "code",
   "execution_count": 5,
   "id": "277b4602",
   "metadata": {},
   "outputs": [
    {
     "name": "stderr",
     "output_type": "stream",
     "text": [
      "D:\\Code\\Anaconda\\lib\\site-packages\\transformers\\training_args.py:1575: FutureWarning: `evaluation_strategy` is deprecated and will be removed in version 4.46 of 🤗 Transformers. Use `eval_strategy` instead\n",
      "  warnings.warn(\n"
     ]
    }
   ],
   "source": [
    "from transformers import T5ForConditionalGeneration, Trainer, TrainingArguments\n",
    "\n",
    "# 加载T5模型\n",
    "model = T5ForConditionalGeneration.from_pretrained(\"t5-small\")\n",
    "\n",
    "# 设置训练参数\n",
    "training_args = TrainingArguments(\n",
    "    output_dir=\"./results\",\n",
    "    evaluation_strategy=\"epoch\",     # 每个 epoch 进行验证\n",
    "    learning_rate=2e-3,\n",
    "    per_device_train_batch_size=16,\n",
    "    per_device_eval_batch_size=32,\n",
    "    num_train_epochs=5,\n",
    "    weight_decay=0.01,\n",
    "    save_strategy=\"epoch\",           # 每个 epoch 保存模型\n",
    "    load_best_model_at_end=True,\n",
    "#     fp16=True  \n",
    ")\n",
    "\n"
   ]
  },
  {
   "cell_type": "code",
   "execution_count": null,
   "id": "d7f6c663",
   "metadata": {},
   "outputs": [
    {
     "name": "stderr",
     "output_type": "stream",
     "text": [
      "Passing a tuple of `past_key_values` is deprecated and will be removed in Transformers v4.48.0. You should pass an instance of `EncoderDecoderCache` instead, e.g. `past_key_values=EncoderDecoderCache.from_legacy_cache(past_key_values)`.\n"
     ]
    },
    {
     "data": {
      "text/html": [
       "\n",
       "    <div>\n",
       "      \n",
       "      <progress value='1414' max='2970' style='width:300px; height:20px; vertical-align: middle;'></progress>\n",
       "      [1414/2970 4:15:46 < 4:41:52, 0.09 it/s, Epoch 2.38/5]\n",
       "    </div>\n",
       "    <table border=\"1\" class=\"dataframe\">\n",
       "  <thead>\n",
       " <tr style=\"text-align: left;\">\n",
       "      <th>Epoch</th>\n",
       "      <th>Training Loss</th>\n",
       "      <th>Validation Loss</th>\n",
       "    </tr>\n",
       "  </thead>\n",
       "  <tbody>\n",
       "    <tr>\n",
       "      <td>1</td>\n",
       "      <td>0.134200</td>\n",
       "      <td>0.064232</td>\n",
       "    </tr>\n",
       "    <tr>\n",
       "      <td>2</td>\n",
       "      <td>0.066500</td>\n",
       "      <td>0.060553</td>\n",
       "    </tr>\n",
       "  </tbody>\n",
       "</table><p>"
      ],
      "text/plain": [
       "<IPython.core.display.HTML object>"
      ]
     },
     "metadata": {},
     "output_type": "display_data"
    }
   ],
   "source": [
    "trainer = Trainer(\n",
    "    model=model,\n",
    "    args=training_args,\n",
    "    train_dataset=train_dataset,         # 使用训练集\n",
    "    eval_dataset=validation_dataset,     # 使用验证集\n",
    ")\n",
    "\n",
    "# 开始训练\n",
    "trainer.train()"
   ]
  },
  {
   "cell_type": "code",
   "execution_count": null,
   "id": "2e4ce31e",
   "metadata": {
    "scrolled": true
   },
   "outputs": [],
   "source": [
    "# 评估模型在测试集上的性能\n",
    "results = trainer.evaluate(eval_dataset=test_dataset)\n",
    "print(results)"
   ]
  },
  {
   "cell_type": "code",
   "execution_count": null,
   "id": "59f5e4a0",
   "metadata": {},
   "outputs": [],
   "source": [
    "from tqdm import tqdm\n",
    "# 定义生成答案的函数\n",
    "def generate_answer(batch):\n",
    "    # 对输入进行tokenization\n",
    "    inputs = tokenizer(batch['input_text'], return_tensors=\"pt\", padding=True, truncation=True, max_length=512)\n",
    "    \n",
    "    # 使用模型生成输出\n",
    "    outputs = model.generate(inputs.input_ids, max_length=128)\n",
    "    \n",
    "    # 解码token ids为文本，并存入生成答案字段\n",
    "    generated_answers = tokenizer.batch_decode(outputs, skip_special_tokens=True)\n",
    "    \n",
    "    # 将解码后的答案替代之前的数字存入batch\n",
    "    batch['generated_answer'] = generated_answers\n",
    "    return batch\n",
    "\n",
    "# 对测试集生成答案并替代\n",
    "tqdm.pandas()  # 添加进度条显示\n",
    "test_results = test_dataset.map(generate_answer, batched=True, batch_size=8)\n",
    "\n",
    "# 保存结果\n",
    "test_results.to_csv(\"test_results_with_generated_answers.csv\", index=False)\n"
   ]
  },
  {
   "cell_type": "code",
   "execution_count": null,
   "id": "9bcfa982",
   "metadata": {},
   "outputs": [],
   "source": [
    "# ! pip install evaluate\n",
    "# ! pip install rouge_score"
   ]
  },
  {
   "cell_type": "code",
   "execution_count": null,
   "id": "aa650577",
   "metadata": {},
   "outputs": [],
   "source": [
    "import evaluate\n",
    "\n",
    "# 加载 BLEU 和 ROUGE 评估指标\n",
    "bleu_metric = evaluate.load(\"bleu\")\n",
    "rouge_metric = evaluate.load(\"rouge\")\n",
    "\n",
    "# 从 test_results 中提取参考答案和生成答案\n",
    "references = [[item['gold_label_str']] for item in test_results]  # 每个参考答案需要嵌套在一个列表中\n",
    "predictions = [item['generated_answer'] for item in test_results]  # 生成答案直接使用未分词的句子\n",
    "\n",
    "# 确保预测和参考数据非空\n",
    "if not references or not predictions:\n",
    "    raise ValueError(\"References or predictions are empty. Please check the test_results data.\")\n",
    "\n",
    "# 计算 BLEU\n",
    "bleu_score = bleu_metric.compute(\n",
    "    predictions=predictions,  # 直接传入预测文本\n",
    "    references=references     # 每个参考答案是一个嵌套列表\n",
    ")\n",
    "print(f\"BLEU Score: {bleu_score['bleu']:.2f}\")\n",
    "\n",
    "# 计算 ROUGE\n",
    "rouge_score = rouge_metric.compute(\n",
    "    predictions=predictions,  # 直接使用预测文本\n",
    "    references=[r[0] for r in references]  # 从嵌套列表中取出第一个参考答案\n",
    ")\n",
    "print(f\"ROUGE-1: {rouge_score['rouge1']:.2f}\")\n",
    "print(f\"ROUGE-L: {rouge_score['rougeL']:.2f}\")"
   ]
  },
  {
   "cell_type": "code",
   "execution_count": null,
   "id": "40471efc",
   "metadata": {},
   "outputs": [],
   "source": [
    "# 将生成结果转换为 pandas DataFrame\n",
    "test_results_df = test_results.to_pandas()\n",
    "\n",
    "# 保存为 CSV 文件\n",
    "test_results_df.to_csv(\"generated_answers.csv\", index=False)"
   ]
  },
  {
   "cell_type": "code",
   "execution_count": null,
   "id": "8c3ff6a1",
   "metadata": {},
   "outputs": [],
   "source": [
    "import torch\n",
    "\n",
    "# 检查是否有可用的 GPU\n",
    "if torch.cuda.is_available():\n",
    "    print(\"GPU 可用！\")\n",
    "    for i in range(torch.cuda.device_count()):\n",
    "        print(f\"GPU {i}: {torch.cuda.get_device_name(i)}\")\n",
    "        print(f\"显存: {torch.cuda.get_device_properties(i).total_memory / 1024**3:.2f} GB\")\n",
    "else:\n",
    "    print(\"GPU 不可用，使用 CPU。\")"
   ]
  },
  {
   "cell_type": "code",
   "execution_count": null,
   "id": "bfe82379",
   "metadata": {},
   "outputs": [],
   "source": [
    "from transformers import T5ForConditionalGeneration, T5Tokenizer\n",
    "\n",
    "try:\n",
    "    print(\"尝试加载 T5-base 模型...\")\n",
    "    model = T5ForConditionalGeneration.from_pretrained(\"t5-base\")\n",
    "    tokenizer = T5Tokenizer.from_pretrained(\"t5-base\")\n",
    "    print(\"模型加载成功！\")\n",
    "except Exception as e:\n",
    "    print(\"模型加载失败，错误信息：\", e)"
   ]
  },
  {
   "cell_type": "code",
   "execution_count": null,
   "id": "fd45fa7d",
   "metadata": {},
   "outputs": [],
   "source": []
  }
 ],
 "metadata": {
  "kernelspec": {
   "display_name": "Python 3 (ipykernel)",
   "language": "python",
   "name": "python3"
  },
  "language_info": {
   "codemirror_mode": {
    "name": "ipython",
    "version": 3
   },
   "file_extension": ".py",
   "mimetype": "text/x-python",
   "name": "python",
   "nbconvert_exporter": "python",
   "pygments_lexer": "ipython3",
   "version": "3.12.4"
  }
 },
 "nbformat": 4,
 "nbformat_minor": 5
}
